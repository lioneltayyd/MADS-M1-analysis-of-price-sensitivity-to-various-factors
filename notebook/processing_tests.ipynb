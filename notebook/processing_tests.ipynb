{
 "cells": [
  {
   "cell_type": "markdown",
   "metadata": {},
   "source": [
    "## Time Series Processing issue\n",
    "sample notebook to demonstrate issue with initial approach to time series processing "
   ]
  },
  {
   "cell_type": "markdown",
   "metadata": {},
   "source": [
    "#### Bring in data for demonstration"
   ]
  },
  {
   "cell_type": "code",
   "execution_count": null,
   "metadata": {},
   "outputs": [],
   "source": [
    "from tickerset import *"
   ]
  },
  {
   "cell_type": "code",
   "execution_count": 4,
   "metadata": {},
   "outputs": [
    {
     "name": "stdout",
     "output_type": "stream",
     "text": [
      "Pulling Ticker data from Yahoo Finance\n",
      "Creating yf Ticker instance for XLF, fetching history\n",
      "Creating yf Ticker instance for XHB, fetching history\n",
      "Creating yf Ticker instance for XLK, fetching history\n",
      "Creating yf Ticker instance for XLY, fetching history\n",
      "Creating yf Ticker instance for XLP, fetching history\n",
      "Creating yf Ticker instance for XRT, fetching history\n",
      "Creating yf Ticker instance for XLI, fetching history\n",
      "Creating yf Ticker instance for XLB, fetching history\n",
      "Creating yf Ticker instance for XTL, fetching history\n",
      "Creating yf Ticker instance for XLU, fetching history\n",
      "Creating yf Ticker instance for ^VIX, fetching history\n"
     ]
    },
    {
     "name": "stderr",
     "output_type": "stream",
     "text": [
      "/Users/murphybre/.local/share/virtualenvs/MADS-M1-analysis-of-price-sensitivity-to-v-hcq5-aJA/lib/python3.8/site-packages/pandas/core/indexing.py:1667: SettingWithCopyWarning: \n",
      "A value is trying to be set on a copy of a slice from a DataFrame.\n",
      "Try using .loc[row_indexer,col_indexer] = value instead\n",
      "\n",
      "See the caveats in the documentation: https://pandas.pydata.org/pandas-docs/stable/user_guide/indexing.html#returning-a-view-versus-a-copy\n",
      "  self.obj[key] = value\n"
     ]
    }
   ],
   "source": [
    "#bring in ticker set for analyzing the current processing approach on the ticker time series \n",
    "t = TickerSet()"
   ]
  },
  {
   "cell_type": "markdown",
   "metadata": {},
   "source": [
    "#### Demonstrate Issue \"compute price change\""
   ]
  },
  {
   "cell_type": "code",
   "execution_count": 5,
   "metadata": {},
   "outputs": [],
   "source": [
    "#price change data frame is the result of the \"compute price change step \"\n",
    "price_change = t.compute_price_change()"
   ]
  },
  {
   "cell_type": "code",
   "execution_count": 17,
   "metadata": {},
   "outputs": [],
   "source": [
    "#Add in prev_close as a column as part of the demonstration \n",
    "price_change['prev_close'] = price_change['close'].shift(1)"
   ]
  },
  {
   "cell_type": "code",
   "execution_count": 39,
   "metadata": {},
   "outputs": [],
   "source": [
    "#the columns of interest \n",
    "columns = ['ticker','date', 'close', 'open', 'prev_close','price_chg_c2o']"
   ]
  },
  {
   "cell_type": "code",
   "execution_count": 41,
   "metadata": {},
   "outputs": [
    {
     "data": {
      "text/html": [
       "<div>\n",
       "<style scoped>\n",
       "    .dataframe tbody tr th:only-of-type {\n",
       "        vertical-align: middle;\n",
       "    }\n",
       "\n",
       "    .dataframe tbody tr th {\n",
       "        vertical-align: top;\n",
       "    }\n",
       "\n",
       "    .dataframe thead th {\n",
       "        text-align: right;\n",
       "    }\n",
       "</style>\n",
       "<table border=\"1\" class=\"dataframe\">\n",
       "  <thead>\n",
       "    <tr style=\"text-align: right;\">\n",
       "      <th></th>\n",
       "      <th>ticker</th>\n",
       "      <th>date</th>\n",
       "      <th>close</th>\n",
       "      <th>open</th>\n",
       "      <th>prev_close</th>\n",
       "      <th>price_chg_c2o</th>\n",
       "    </tr>\n",
       "  </thead>\n",
       "  <tbody>\n",
       "    <tr>\n",
       "      <th>5782</th>\n",
       "      <td>XLF</td>\n",
       "      <td>2021-12-14</td>\n",
       "      <td>38.67</td>\n",
       "      <td>38.39</td>\n",
       "      <td>38.45</td>\n",
       "      <td>-0.001560</td>\n",
       "    </tr>\n",
       "    <tr>\n",
       "      <th>5783</th>\n",
       "      <td>XLF</td>\n",
       "      <td>2021-12-15</td>\n",
       "      <td>38.78</td>\n",
       "      <td>38.77</td>\n",
       "      <td>38.67</td>\n",
       "      <td>0.002586</td>\n",
       "    </tr>\n",
       "    <tr>\n",
       "      <th>5784</th>\n",
       "      <td>XLF</td>\n",
       "      <td>2021-12-16</td>\n",
       "      <td>39.27</td>\n",
       "      <td>39.23</td>\n",
       "      <td>38.78</td>\n",
       "      <td>0.011604</td>\n",
       "    </tr>\n",
       "    <tr>\n",
       "      <th>5785</th>\n",
       "      <td>XHB</td>\n",
       "      <td>2006-02-06</td>\n",
       "      <td>38.49</td>\n",
       "      <td>39.17</td>\n",
       "      <td>39.27</td>\n",
       "      <td>-0.002546</td>\n",
       "    </tr>\n",
       "    <tr>\n",
       "      <th>5786</th>\n",
       "      <td>XHB</td>\n",
       "      <td>2006-02-07</td>\n",
       "      <td>37.51</td>\n",
       "      <td>38.02</td>\n",
       "      <td>38.49</td>\n",
       "      <td>-0.012211</td>\n",
       "    </tr>\n",
       "    <tr>\n",
       "      <th>5787</th>\n",
       "      <td>XHB</td>\n",
       "      <td>2006-02-08</td>\n",
       "      <td>38.14</td>\n",
       "      <td>37.45</td>\n",
       "      <td>37.51</td>\n",
       "      <td>-0.001600</td>\n",
       "    </tr>\n",
       "    <tr>\n",
       "      <th>5788</th>\n",
       "      <td>XHB</td>\n",
       "      <td>2006-02-09</td>\n",
       "      <td>37.86</td>\n",
       "      <td>38.06</td>\n",
       "      <td>38.14</td>\n",
       "      <td>-0.002098</td>\n",
       "    </tr>\n",
       "    <tr>\n",
       "      <th>5789</th>\n",
       "      <td>XHB</td>\n",
       "      <td>2006-02-10</td>\n",
       "      <td>37.45</td>\n",
       "      <td>37.58</td>\n",
       "      <td>37.86</td>\n",
       "      <td>-0.007396</td>\n",
       "    </tr>\n",
       "  </tbody>\n",
       "</table>\n",
       "</div>"
      ],
      "text/plain": [
       "     ticker       date  close   open  prev_close  price_chg_c2o\n",
       "5782    XLF 2021-12-14  38.67  38.39       38.45      -0.001560\n",
       "5783    XLF 2021-12-15  38.78  38.77       38.67       0.002586\n",
       "5784    XLF 2021-12-16  39.27  39.23       38.78       0.011604\n",
       "5785    XHB 2006-02-06  38.49  39.17       39.27      -0.002546\n",
       "5786    XHB 2006-02-07  37.51  38.02       38.49      -0.012211\n",
       "5787    XHB 2006-02-08  38.14  37.45       37.51      -0.001600\n",
       "5788    XHB 2006-02-09  37.86  38.06       38.14      -0.002098\n",
       "5789    XHB 2006-02-10  37.45  37.58       37.86      -0.007396"
      ]
     },
     "execution_count": 41,
     "metadata": {},
     "output_type": "execute_result"
    }
   ],
   "source": [
    "#prev close for first row of XHB is based on last row of XLF \n",
    "price_change[price_change.ticker.isin(['XLF', 'XHB'])][columns].iloc[5782:5790]\n"
   ]
  },
  {
   "cell_type": "markdown",
   "metadata": {},
   "source": [
    "#### Demonstrate issue with rolling volume "
   ]
  },
  {
   "cell_type": "code",
   "execution_count": 34,
   "metadata": {},
   "outputs": [],
   "source": [
    "rolling_volume = t.compute_rolling_volume(price_change)"
   ]
  },
  {
   "cell_type": "code",
   "execution_count": 37,
   "metadata": {},
   "outputs": [
    {
     "data": {
      "text/html": [
       "<div>\n",
       "<style scoped>\n",
       "    .dataframe tbody tr th:only-of-type {\n",
       "        vertical-align: middle;\n",
       "    }\n",
       "\n",
       "    .dataframe tbody tr th {\n",
       "        vertical-align: top;\n",
       "    }\n",
       "\n",
       "    .dataframe thead th {\n",
       "        text-align: right;\n",
       "    }\n",
       "</style>\n",
       "<table border=\"1\" class=\"dataframe\">\n",
       "  <thead>\n",
       "    <tr style=\"text-align: right;\">\n",
       "      <th></th>\n",
       "      <th>ticker</th>\n",
       "      <th>date</th>\n",
       "      <th>volume</th>\n",
       "      <th>volume_rollmed</th>\n",
       "      <th>volume_diff_to_med</th>\n",
       "      <th>volume_pchg_from_med</th>\n",
       "    </tr>\n",
       "  </thead>\n",
       "  <tbody>\n",
       "    <tr>\n",
       "      <th>5782</th>\n",
       "      <td>XLF</td>\n",
       "      <td>2021-12-14</td>\n",
       "      <td>51734400</td>\n",
       "      <td>47958300.0</td>\n",
       "      <td>3776100.0</td>\n",
       "      <td>0.078737</td>\n",
       "    </tr>\n",
       "    <tr>\n",
       "      <th>5783</th>\n",
       "      <td>XLF</td>\n",
       "      <td>2021-12-15</td>\n",
       "      <td>70424900</td>\n",
       "      <td>47958300.0</td>\n",
       "      <td>22466600.0</td>\n",
       "      <td>0.468461</td>\n",
       "    </tr>\n",
       "    <tr>\n",
       "      <th>5784</th>\n",
       "      <td>XLF</td>\n",
       "      <td>2021-12-16</td>\n",
       "      <td>71156600</td>\n",
       "      <td>48038950.0</td>\n",
       "      <td>23117650.0</td>\n",
       "      <td>0.481227</td>\n",
       "    </tr>\n",
       "    <tr>\n",
       "      <th>5785</th>\n",
       "      <td>XHB</td>\n",
       "      <td>2006-02-06</td>\n",
       "      <td>71000</td>\n",
       "      <td>47958300.0</td>\n",
       "      <td>-47887300.0</td>\n",
       "      <td>-0.998520</td>\n",
       "    </tr>\n",
       "    <tr>\n",
       "      <th>5786</th>\n",
       "      <td>XHB</td>\n",
       "      <td>2006-02-07</td>\n",
       "      <td>203500</td>\n",
       "      <td>47958300.0</td>\n",
       "      <td>-47754800.0</td>\n",
       "      <td>-0.995757</td>\n",
       "    </tr>\n",
       "    <tr>\n",
       "      <th>5787</th>\n",
       "      <td>XHB</td>\n",
       "      <td>2006-02-08</td>\n",
       "      <td>553500</td>\n",
       "      <td>47958300.0</td>\n",
       "      <td>-47404800.0</td>\n",
       "      <td>-0.988459</td>\n",
       "    </tr>\n",
       "    <tr>\n",
       "      <th>5788</th>\n",
       "      <td>XHB</td>\n",
       "      <td>2006-02-09</td>\n",
       "      <td>70700</td>\n",
       "      <td>46871200.0</td>\n",
       "      <td>-46800500.0</td>\n",
       "      <td>-0.998492</td>\n",
       "    </tr>\n",
       "    <tr>\n",
       "      <th>5789</th>\n",
       "      <td>XHB</td>\n",
       "      <td>2006-02-10</td>\n",
       "      <td>264100</td>\n",
       "      <td>45754100.0</td>\n",
       "      <td>-45490000.0</td>\n",
       "      <td>-0.994228</td>\n",
       "    </tr>\n",
       "  </tbody>\n",
       "</table>\n",
       "</div>"
      ],
      "text/plain": [
       "     ticker       date    volume  volume_rollmed  volume_diff_to_med  \\\n",
       "5782    XLF 2021-12-14  51734400      47958300.0           3776100.0   \n",
       "5783    XLF 2021-12-15  70424900      47958300.0          22466600.0   \n",
       "5784    XLF 2021-12-16  71156600      48038950.0          23117650.0   \n",
       "5785    XHB 2006-02-06     71000      47958300.0         -47887300.0   \n",
       "5786    XHB 2006-02-07    203500      47958300.0         -47754800.0   \n",
       "5787    XHB 2006-02-08    553500      47958300.0         -47404800.0   \n",
       "5788    XHB 2006-02-09     70700      46871200.0         -46800500.0   \n",
       "5789    XHB 2006-02-10    264100      45754100.0         -45490000.0   \n",
       "\n",
       "      volume_pchg_from_med  \n",
       "5782              0.078737  \n",
       "5783              0.468461  \n",
       "5784              0.481227  \n",
       "5785             -0.998520  \n",
       "5786             -0.995757  \n",
       "5787             -0.988459  \n",
       "5788             -0.998492  \n",
       "5789             -0.994228  "
      ]
     },
     "execution_count": 37,
     "metadata": {},
     "output_type": "execute_result"
    }
   ],
   "source": [
    "#volume_rollmed for XHB is computed accross a window including XLF \n",
    "columns = ['ticker','date', 'volume', \"volume_rollmed\",\"volume_diff_to_med\",\"volume_pchg_from_med\"]\n",
    "rolling_volume.iloc[5782:5790][columns]"
   ]
  },
  {
   "cell_type": "code",
   "execution_count": null,
   "metadata": {},
   "outputs": [],
   "source": [
    "#same idea is true for the rolling volume and bollinger and Z\n",
    "\n",
    "#To correct for this, we either need to \n",
    "# A) calculate the aggregations for each ticker time series separately before joining them together\n",
    "# B) join them and then compute the aggregations group wise (split apply transform )\n",
    "\n",
    "\n",
    "#For approach A\n",
    "\n",
    "#Fetch Ticker, compute time series aggregation\n",
    "#---- move processing from Ticker Set to Ticker, TickerSet can still union and join with VIX\n"
   ]
  }
 ],
 "metadata": {
  "interpreter": {
   "hash": "12520d33836756f62308f85acf027e8439210c1c416fd16e090a5c168f4b82e0"
  },
  "kernelspec": {
   "display_name": "Python 3.8.9 64-bit ('MADS-M1-analysis-of-price-sensitivity-to-v-hcq5-aJA': venv)",
   "language": "python",
   "name": "python3"
  },
  "language_info": {
   "codemirror_mode": {
    "name": "ipython",
    "version": 3
   },
   "file_extension": ".py",
   "mimetype": "text/x-python",
   "name": "python",
   "nbconvert_exporter": "python",
   "pygments_lexer": "ipython3",
   "version": "3.8.9"
  },
  "orig_nbformat": 4
 },
 "nbformat": 4,
 "nbformat_minor": 2
}

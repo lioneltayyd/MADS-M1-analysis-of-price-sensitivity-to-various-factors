{
 "cells": [
  {
   "cell_type": "markdown",
   "metadata": {},
   "source": [
    "## Time Series Processing issue\n",
    "sample notebook to demonstrate issue with initial approach to time series processing "
   ]
  },
  {
   "cell_type": "markdown",
   "metadata": {},
   "source": [
    "#### Bring in data for demonstration"
   ]
  },
  {
   "cell_type": "code",
   "execution_count": 9,
   "metadata": {},
   "outputs": [],
   "source": [
    "from tickerset import TickerSet"
   ]
  },
  {
   "cell_type": "code",
   "execution_count": 10,
   "metadata": {},
   "outputs": [
    {
     "name": "stdout",
     "output_type": "stream",
     "text": [
      "Pulling Ticker data from Yahoo Finance\n",
      "Creating yf Ticker instance for XLF, fetching history\n",
      "Creating yf Ticker instance for XHB, fetching history\n",
      "Creating yf Ticker instance for XLK, fetching history\n",
      "Creating yf Ticker instance for XLY, fetching history\n",
      "Creating yf Ticker instance for XLP, fetching history\n",
      "Creating yf Ticker instance for XRT, fetching history\n",
      "Creating yf Ticker instance for XLI, fetching history\n",
      "Creating yf Ticker instance for XLB, fetching history\n",
      "Creating yf Ticker instance for XTL, fetching history\n",
      "Creating yf Ticker instance for XLU, fetching history\n",
      "Creating yf Ticker instance for ^VIX, fetching history\n"
     ]
    }
   ],
   "source": [
    "#bring in ticker set for analyzing the current processing approach on the ticker time series \n",
    "t = TickerSet()"
   ]
  },
  {
   "cell_type": "markdown",
   "metadata": {},
   "source": [
    "#### Demonstrate Issue \"compute price change\""
   ]
  },
  {
   "cell_type": "code",
   "execution_count": 11,
   "metadata": {},
   "outputs": [],
   "source": [
    "#the columns of interest \n",
    "columns = ['ticker','close', 'open', 'prev_close','price_chg_c2o']"
   ]
  },
  {
   "cell_type": "code",
   "execution_count": 12,
   "metadata": {},
   "outputs": [
    {
     "data": {
      "text/html": [
       "<div>\n",
       "<style scoped>\n",
       "    .dataframe tbody tr th:only-of-type {\n",
       "        vertical-align: middle;\n",
       "    }\n",
       "\n",
       "    .dataframe tbody tr th {\n",
       "        vertical-align: top;\n",
       "    }\n",
       "\n",
       "    .dataframe thead th {\n",
       "        text-align: right;\n",
       "    }\n",
       "</style>\n",
       "<table border=\"1\" class=\"dataframe\">\n",
       "  <thead>\n",
       "    <tr style=\"text-align: right;\">\n",
       "      <th></th>\n",
       "      <th>ticker</th>\n",
       "      <th>close</th>\n",
       "      <th>open</th>\n",
       "      <th>prev_close</th>\n",
       "      <th>price_chg_c2o</th>\n",
       "    </tr>\n",
       "  </thead>\n",
       "  <tbody>\n",
       "    <tr>\n",
       "      <th>5782</th>\n",
       "      <td>XLF</td>\n",
       "      <td>38.67</td>\n",
       "      <td>38.39</td>\n",
       "      <td>38.45</td>\n",
       "      <td>-0.001560</td>\n",
       "    </tr>\n",
       "    <tr>\n",
       "      <th>5783</th>\n",
       "      <td>XLF</td>\n",
       "      <td>38.78</td>\n",
       "      <td>38.77</td>\n",
       "      <td>38.67</td>\n",
       "      <td>0.002586</td>\n",
       "    </tr>\n",
       "    <tr>\n",
       "      <th>5784</th>\n",
       "      <td>XLF</td>\n",
       "      <td>39.27</td>\n",
       "      <td>39.23</td>\n",
       "      <td>38.78</td>\n",
       "      <td>0.011604</td>\n",
       "    </tr>\n",
       "    <tr>\n",
       "      <th>5785</th>\n",
       "      <td>XHB</td>\n",
       "      <td>38.49</td>\n",
       "      <td>39.17</td>\n",
       "      <td>38.49</td>\n",
       "      <td>0.017667</td>\n",
       "    </tr>\n",
       "    <tr>\n",
       "      <th>5786</th>\n",
       "      <td>XHB</td>\n",
       "      <td>37.51</td>\n",
       "      <td>38.02</td>\n",
       "      <td>38.49</td>\n",
       "      <td>-0.012211</td>\n",
       "    </tr>\n",
       "    <tr>\n",
       "      <th>5787</th>\n",
       "      <td>XHB</td>\n",
       "      <td>38.14</td>\n",
       "      <td>37.45</td>\n",
       "      <td>37.51</td>\n",
       "      <td>-0.001600</td>\n",
       "    </tr>\n",
       "    <tr>\n",
       "      <th>5788</th>\n",
       "      <td>XHB</td>\n",
       "      <td>37.86</td>\n",
       "      <td>38.06</td>\n",
       "      <td>38.14</td>\n",
       "      <td>-0.002098</td>\n",
       "    </tr>\n",
       "    <tr>\n",
       "      <th>5789</th>\n",
       "      <td>XHB</td>\n",
       "      <td>37.45</td>\n",
       "      <td>37.58</td>\n",
       "      <td>37.86</td>\n",
       "      <td>-0.007396</td>\n",
       "    </tr>\n",
       "  </tbody>\n",
       "</table>\n",
       "</div>"
      ],
      "text/plain": [
       "     ticker  close   open  prev_close  price_chg_c2o\n",
       "5782    XLF  38.67  38.39       38.45      -0.001560\n",
       "5783    XLF  38.78  38.77       38.67       0.002586\n",
       "5784    XLF  39.27  39.23       38.78       0.011604\n",
       "5785    XHB  38.49  39.17       38.49       0.017667\n",
       "5786    XHB  37.51  38.02       38.49      -0.012211\n",
       "5787    XHB  38.14  37.45       37.51      -0.001600\n",
       "5788    XHB  37.86  38.06       38.14      -0.002098\n",
       "5789    XHB  37.45  37.58       37.86      -0.007396"
      ]
     },
     "execution_count": 12,
     "metadata": {},
     "output_type": "execute_result"
    }
   ],
   "source": [
    "#prev close for first row of XHB (and first row of any ticker) is imputed to be current close\n",
    "#subsequent rows are previous close \n",
    "t.df[t.df.ticker.isin(['XLF', 'XHB'])][columns].iloc[5782:5790]\n"
   ]
  },
  {
   "cell_type": "markdown",
   "metadata": {},
   "source": [
    "#### Demonstrate issue with rolling volume "
   ]
  },
  {
   "cell_type": "code",
   "execution_count": 8,
   "metadata": {},
   "outputs": [
    {
     "data": {
      "text/html": [
       "<div>\n",
       "<style scoped>\n",
       "    .dataframe tbody tr th:only-of-type {\n",
       "        vertical-align: middle;\n",
       "    }\n",
       "\n",
       "    .dataframe tbody tr th {\n",
       "        vertical-align: top;\n",
       "    }\n",
       "\n",
       "    .dataframe thead th {\n",
       "        text-align: right;\n",
       "    }\n",
       "</style>\n",
       "<table border=\"1\" class=\"dataframe\">\n",
       "  <thead>\n",
       "    <tr style=\"text-align: right;\">\n",
       "      <th></th>\n",
       "      <th>ticker</th>\n",
       "      <th>volume</th>\n",
       "      <th>volume_rollmed</th>\n",
       "      <th>volume_diff_to_med</th>\n",
       "      <th>volume_pchg_from_med</th>\n",
       "    </tr>\n",
       "  </thead>\n",
       "  <tbody>\n",
       "    <tr>\n",
       "      <th>5782</th>\n",
       "      <td>XLF</td>\n",
       "      <td>51734400</td>\n",
       "      <td>47958300.0</td>\n",
       "      <td>3776100.0</td>\n",
       "      <td>0.078737</td>\n",
       "    </tr>\n",
       "    <tr>\n",
       "      <th>5783</th>\n",
       "      <td>XLF</td>\n",
       "      <td>70424900</td>\n",
       "      <td>47958300.0</td>\n",
       "      <td>22466600.0</td>\n",
       "      <td>0.468461</td>\n",
       "    </tr>\n",
       "    <tr>\n",
       "      <th>5784</th>\n",
       "      <td>XLF</td>\n",
       "      <td>71156600</td>\n",
       "      <td>48038950.0</td>\n",
       "      <td>23117650.0</td>\n",
       "      <td>0.481227</td>\n",
       "    </tr>\n",
       "    <tr>\n",
       "      <th>5785</th>\n",
       "      <td>XHB</td>\n",
       "      <td>71000</td>\n",
       "      <td>71000.0</td>\n",
       "      <td>0.0</td>\n",
       "      <td>0.000000</td>\n",
       "    </tr>\n",
       "    <tr>\n",
       "      <th>5786</th>\n",
       "      <td>XHB</td>\n",
       "      <td>203500</td>\n",
       "      <td>137250.0</td>\n",
       "      <td>66250.0</td>\n",
       "      <td>0.482696</td>\n",
       "    </tr>\n",
       "    <tr>\n",
       "      <th>5787</th>\n",
       "      <td>XHB</td>\n",
       "      <td>553500</td>\n",
       "      <td>203500.0</td>\n",
       "      <td>350000.0</td>\n",
       "      <td>1.719902</td>\n",
       "    </tr>\n",
       "    <tr>\n",
       "      <th>5788</th>\n",
       "      <td>XHB</td>\n",
       "      <td>70700</td>\n",
       "      <td>137250.0</td>\n",
       "      <td>-66550.0</td>\n",
       "      <td>-0.484882</td>\n",
       "    </tr>\n",
       "    <tr>\n",
       "      <th>5789</th>\n",
       "      <td>XHB</td>\n",
       "      <td>264100</td>\n",
       "      <td>203500.0</td>\n",
       "      <td>60600.0</td>\n",
       "      <td>0.297789</td>\n",
       "    </tr>\n",
       "  </tbody>\n",
       "</table>\n",
       "</div>"
      ],
      "text/plain": [
       "     ticker    volume  volume_rollmed  volume_diff_to_med  \\\n",
       "5782    XLF  51734400      47958300.0           3776100.0   \n",
       "5783    XLF  70424900      47958300.0          22466600.0   \n",
       "5784    XLF  71156600      48038950.0          23117650.0   \n",
       "5785    XHB     71000         71000.0                 0.0   \n",
       "5786    XHB    203500        137250.0             66250.0   \n",
       "5787    XHB    553500        203500.0            350000.0   \n",
       "5788    XHB     70700        137250.0            -66550.0   \n",
       "5789    XHB    264100        203500.0             60600.0   \n",
       "\n",
       "      volume_pchg_from_med  \n",
       "5782              0.078737  \n",
       "5783              0.468461  \n",
       "5784              0.481227  \n",
       "5785              0.000000  \n",
       "5786              0.482696  \n",
       "5787              1.719902  \n",
       "5788             -0.484882  \n",
       "5789              0.297789  "
      ]
     },
     "execution_count": 8,
     "metadata": {},
     "output_type": "execute_result"
    }
   ],
   "source": [
    "#volume_rollmed for XHB is computed accross a window including XLF \n",
    "columns = ['ticker','volume', \"volume_rollmed\",\"volume_diff_to_med\",\"volume_pchg_from_med\"]\n",
    "t.df.iloc[5782:5790][columns]"
   ]
  },
  {
   "cell_type": "code",
   "execution_count": null,
   "metadata": {},
   "outputs": [],
   "source": [
    "#same idea is true for the rolling volume and bollinger and Z\n",
    "\n",
    "#To correct for this, we either need to \n",
    "# A) calculate the aggregations for each ticker time series separately before joining them together\n",
    "# B) join them and then compute the aggregations group wise (split apply transform )\n",
    "\n",
    "\n",
    "#For approach A\n",
    "\n",
    "#Fetch Ticker, compute time series aggregation\n",
    "#---- move processing from Ticker Set to Ticker, TickerSet can still union and join with VIX\n"
   ]
  }
 ],
 "metadata": {
  "interpreter": {
   "hash": "12520d33836756f62308f85acf027e8439210c1c416fd16e090a5c168f4b82e0"
  },
  "kernelspec": {
   "display_name": "Python 3.8.9 64-bit ('MADS-M1-analysis-of-price-sensitivity-to-v-hcq5-aJA': venv)",
   "language": "python",
   "name": "python3"
  },
  "language_info": {
   "codemirror_mode": {
    "name": "ipython",
    "version": 3
   },
   "file_extension": ".py",
   "mimetype": "text/x-python",
   "name": "python",
   "nbconvert_exporter": "python",
   "pygments_lexer": "ipython3",
   "version": "3.8.9"
  },
  "orig_nbformat": 4
 },
 "nbformat": 4,
 "nbformat_minor": 2
}

{
 "cells": [
  {
   "cell_type": "markdown",
   "metadata": {},
   "source": [
    "Fetch and store ticker data"
   ]
  },
  {
   "cell_type": "code",
   "execution_count": 1,
   "metadata": {},
   "outputs": [],
   "source": [
    "from tickerset import *"
   ]
  },
  {
   "cell_type": "code",
   "execution_count": 3,
   "metadata": {},
   "outputs": [
    {
     "name": "stdout",
     "output_type": "stream",
     "text": [
      "Pulling Ticker data from Yahoo Finance\n",
      "Creating yf Ticker instance for XLF, fetching history\n",
      "Creating yf Ticker instance for XHB, fetching history\n",
      "Creating yf Ticker instance for XLK, fetching history\n",
      "Creating yf Ticker instance for XLY, fetching history\n",
      "Creating yf Ticker instance for XLP, fetching history\n",
      "Creating yf Ticker instance for XRT, fetching history\n",
      "Creating yf Ticker instance for XLI, fetching history\n",
      "Creating yf Ticker instance for XLB, fetching history\n",
      "Creating yf Ticker instance for XTL, fetching history\n",
      "Creating yf Ticker instance for XLU, fetching history\n",
      "Creating yf Ticker instance for ^VIX, fetching history\n"
     ]
    },
    {
     "name": "stderr",
     "output_type": "stream",
     "text": [
      "/Users/murphybre/.local/share/virtualenvs/MADS-M1-analysis-of-price-sensitivity-to-v-hcq5-aJA/lib/python3.8/site-packages/pandas/core/indexing.py:1667: SettingWithCopyWarning: \n",
      "A value is trying to be set on a copy of a slice from a DataFrame.\n",
      "Try using .loc[row_indexer,col_indexer] = value instead\n",
      "\n",
      "See the caveats in the documentation: https://pandas.pydata.org/pandas-docs/stable/user_guide/indexing.html#returning-a-view-versus-a-copy\n",
      "  self.obj[key] = value\n"
     ]
    }
   ],
   "source": [
    "t = TickerSet(use_csv=False)"
   ]
  },
  {
   "cell_type": "code",
   "execution_count": 4,
   "metadata": {},
   "outputs": [],
   "source": [
    "t.write_to_csv()"
   ]
  },
  {
   "cell_type": "markdown",
   "metadata": {},
   "source": [
    "Create and store aggregate measures"
   ]
  },
  {
   "cell_type": "code",
   "execution_count": 5,
   "metadata": {},
   "outputs": [],
   "source": [
    "from aggregations import *"
   ]
  },
  {
   "cell_type": "code",
   "execution_count": 6,
   "metadata": {},
   "outputs": [
    {
     "name": "stdout",
     "output_type": "stream",
     "text": [
      "Read from csv\n",
      "Loading Event Dates\n",
      "Read from csv\n",
      "Read from csv\n",
      "Read from csv\n",
      "Read from csv\n",
      "Loading Economic Reporting Dates From CSV\n",
      "Read from csv\n",
      "Adding Event Flag columns to ticker history\n",
      "Creating aggregations\n"
     ]
    },
    {
     "name": "stderr",
     "output_type": "stream",
     "text": [
      "/Users/murphybre/.local/share/virtualenvs/MADS-M1-analysis-of-price-sensitivity-to-v-hcq5-aJA/lib/python3.8/site-packages/pandas/core/indexing.py:1817: SettingWithCopyWarning: \n",
      "A value is trying to be set on a copy of a slice from a DataFrame.\n",
      "Try using .loc[row_indexer,col_indexer] = value instead\n",
      "\n",
      "See the caveats in the documentation: https://pandas.pydata.org/pandas-docs/stable/user_guide/indexing.html#returning-a-view-versus-a-copy\n",
      "  self._setitem_single_column(loc, value, pi)\n",
      "/Users/murphybre/.local/share/virtualenvs/MADS-M1-analysis-of-price-sensitivity-to-v-hcq5-aJA/lib/python3.8/site-packages/pandas/core/indexing.py:1773: SettingWithCopyWarning: \n",
      "A value is trying to be set on a copy of a slice from a DataFrame.\n",
      "Try using .loc[row_indexer,col_indexer] = value instead\n",
      "\n",
      "See the caveats in the documentation: https://pandas.pydata.org/pandas-docs/stable/user_guide/indexing.html#returning-a-view-versus-a-copy\n",
      "  self._setitem_single_column(ilocs[0], value, pi)\n"
     ]
    }
   ],
   "source": [
    "a = AggregateMeasures(use_csv=False)"
   ]
  },
  {
   "cell_type": "code",
   "execution_count": 7,
   "metadata": {},
   "outputs": [],
   "source": [
    "a.write_to_csv()"
   ]
  }
 ],
 "metadata": {
  "interpreter": {
   "hash": "12520d33836756f62308f85acf027e8439210c1c416fd16e090a5c168f4b82e0"
  },
  "kernelspec": {
   "display_name": "Python 3.8.9 64-bit ('MADS-M1-analysis-of-price-sensitivity-to-v-hcq5-aJA': venv)",
   "language": "python",
   "name": "python3"
  },
  "language_info": {
   "codemirror_mode": {
    "name": "ipython",
    "version": 3
   },
   "file_extension": ".py",
   "mimetype": "text/x-python",
   "name": "python",
   "nbconvert_exporter": "python",
   "pygments_lexer": "ipython3",
   "version": "3.8.9"
  },
  "orig_nbformat": 4
 },
 "nbformat": 4,
 "nbformat_minor": 2
}
